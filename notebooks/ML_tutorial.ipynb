{
  "nbformat": 4,
  "nbformat_minor": 0,
  "metadata": {
    "colab": {
      "name": "ML_tutorial.ipynb",
      "provenance": []
    },
    "kernelspec": {
      "name": "python371jvsc74a57bd0e534e48711db4d1e1c48977d0d14ff85b1f16d41bcc4fdfd88268a329b3c9d66",
      "display_name": "Python 3.7.1 64-bit ('3.7')"
    },
    "language_info": {
      "name": "python",
      "version": "3.7.1"
    }
  },
  "cells": [
    {
      "cell_type": "code",
      "metadata": {
        "id": "Fiwv3J_GO5zQ"
      },
      "source": [
        "import numpy as np\n",
        "import matplotlib.pyplot as plt\n",
        "from sklearn.linear_model import LinearRegression, Lasso, ElasticNet\n",
        "from sklearn.model_selection import train_test_split\n"
      ],
      "execution_count": null,
      "outputs": []
    },
    {
      "cell_type": "markdown",
      "metadata": {
        "id": "HL9HpnFpLTl9"
      },
      "source": [
        "## INTRO TO SKLEARN"
      ]
    },
    {
      "cell_type": "code",
      "metadata": {
        "id": "KmcokpTiO_3D"
      },
      "source": [
        "\n",
        "test_size = 0.2\n",
        "shuffle = False \n",
        "noise_strength = 10 \n",
        "\n",
        "# Create data\n",
        "x = np.linspace(0, 10, 100)\n",
        "y = x**2 + noise_strength * (np.random.random((len(x)))-0.5)\n",
        "\n",
        "# Split data into train/dev/test\n",
        "x_train, x_test, y_train, y_test = train_test_split(x, y, test_size=test_size, shuffle=shuffle)\n",
        "x_train, x_dev, y_train, y_dev = train_test_split(x_train, y_train, test_size=test_size, shuffle=shuffle)\n",
        "\n",
        "# Plot\n",
        "fig = plt.figure()\n",
        "plt.plot(x_train, y_train, 'k.')\n",
        "plt.plot(x_dev, y_dev, 'b.')\n",
        "plt.plot(x_test, y_test, 'r.')\n",
        "plt.legend(['train', 'dev', 'test'])\n",
        "plt.ylabel('y')\n",
        "plt.xlabel('x')\n",
        "plt.show()"
      ],
      "execution_count": null,
      "outputs": []
    },
    {
      "cell_type": "markdown",
      "metadata": {
        "id": "fS8xpC-B4NxQ"
      },
      "source": [
        "The `score` quantifies the residual, defined as\n",
        "\n",
        "$$ R^2 = \\left( 1 - \\frac{\\sum_i (\\hat y_i - y_i)^2}{\\sum_i (y_i - \\langle y \\rangle)^2} \\right)$$\n",
        "\n",
        "where $\\hat y$ is the prediction, $y$ is the true value, $\\langle y \\rangle$ is the average of the true values."
      ]
    },
    {
      "cell_type": "code",
      "metadata": {
        "id": "qxSgKRbtQefw"
      },
      "source": [
        "import pdb\n",
        "from sklearn.metrics import mean_squared_error\n",
        "\n",
        "# Reshape y to (n, 1) for sklearn\n",
        "Y = y.reshape(-1, 1)\n",
        "\n",
        "def make_features(x, degree=1):\n",
        "    X = np.zeros((len(x), degree+1))\n",
        "    for i in range(degree+1):\n",
        "        X[:, i] = x**i\n",
        "    return X\n",
        "\n",
        "def rmse(x, y, reg, degree):\n",
        "    y_pred = reg.predict(make_features(x, degree=d))\n",
        "    rmse_val = mean_squared_error(y, y_pred)\n",
        "    return rmse_val\n",
        "\n",
        "\n",
        "degree_list = [1, 2, 3, 5, 10]\n",
        "for deg in degree_list:\n",
        "    d = deg\n",
        "    X = make_features(x, degree=d)\n",
        "\n",
        "    # Split data into train/dev/test\n",
        "    X_train, X_test, Y_train, Y_test = train_test_split(X, Y, test_size=test_size, shuffle=shuffle)\n",
        "    X_train, X_dev, Y_train, Y_dev = train_test_split(X_train, Y_train, test_size=test_size, shuffle=shuffle)\n",
        "\n",
        "    # FIT!\n",
        "    # reg = LinearRegression(fit_intercept=False)\n",
        "    # reg = Lasso(fit_intercept=False)\n",
        "    reg = ElasticNet(alpha=0.2, l1_ratio=0.5, fit_intercept=False)\n",
        "    reg.fit(X_train, Y_train)\n",
        "\n",
        "\n",
        "    rmse_dev = rmse(x_dev, y_dev, reg, d)\n",
        "    rmse_train = rmse(x_train, y_train, reg, d)\n",
        "\n",
        "    print('\\n\\n')\n",
        "    print('degree = %d'%(d))\n",
        "    print('--')\n",
        "    print('validation score = %.4f'%( reg.score(X_dev, Y_dev) ))\n",
        "    print('train score = %.4f'%(reg.score(X_train, Y_train)))\n",
        "    print('--')\n",
        "    print('validation RMSE = %.4f'%(rmse_dev))\n",
        "    print('train RMSE = %.4f'%(rmse_train))\n",
        "    print('--')\n",
        "    print('coeffficients = ', reg.coef_)\n",
        "    print('--')\n",
        "\n",
        "    x_c = np.linspace(x[0], np.max(x_dev), 100)\n",
        "    \n",
        "    fig = plt.figure()\n",
        "    ax = fig.add_subplot(111)\n",
        "    ax.plot(x_c, reg.predict(make_features(x_c, degree=d)), '--')\n",
        "    ax.plot(x_train, y_train, '.')\n",
        "    ax.plot(x_dev, y_dev, '.', ms=10)\n",
        "    ax.plot(x_dev, reg.predict(make_features(x_dev, degree=d)), '.')\n",
        "    \n",
        "    ax.set_xlabel('x')\n",
        "    ax.set_ylabel('y')\n",
        "    ax.set_ylim(np.min(y_train), np.max(y_dev))\n",
        "    ax.legend(['polynomial fit', 'train data', 'dev data', 'dev prediction'])\n",
        "    plt.show()"
      ],
      "execution_count": null,
      "outputs": []
    },
    {
      "cell_type": "code",
      "metadata": {
        "id": "YAMk4z4bUVM5"
      },
      "source": [
        "\n",
        "y_test_pred = reg.predict(make_features(x_test, degree=d))\n",
        "rmse_test = mean_squared_error(y_test_pred, y_test)\n",
        "\n",
        "print('test score = %.4f'%( reg.score(X_test, Y_test) ))\n",
        "print('train score = %.4f'%(reg.score(X_train, Y_train)))\n",
        "print('--')\n",
        "print('test RMSE = %.4f'%(rmse_test))\n",
        "print('train RMSE = %.4f'%(rmse_train))\n",
        "print('--')\n",
        "print('coeffficients = ', reg.coef_)\n",
        "print('\\n')\n",
        "print('--')"
      ],
      "execution_count": null,
      "outputs": []
    }
  ]
}